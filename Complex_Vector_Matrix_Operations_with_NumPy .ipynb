{
  "cells": [
    {
      "cell_type": "markdown",
      "id": "a07bd584",
      "metadata": {
        "id": "a07bd584"
      },
      "source": [
        "# Theory of Complex Vector Spaces\n",
        "Complex vector spaces extend the idea of real vector spaces by allowing vectors to have complex numbers as their components. In these spaces, vectors can be added together and multiplied by complex scalars to produce new vectors. Key operations in complex vector spaces include vector addition, scalar multiplication, vector negation, and complex conjugation."
      ]
    },
    {
      "cell_type": "markdown",
      "id": "f43fc972-23ab-4d81-aa26-c51325dac8f3",
      "metadata": {
        "id": "f43fc972-23ab-4d81-aa26-c51325dac8f3"
      },
      "source": [
        "# Creating complex column vectors"
      ]
    },
    {
      "cell_type": "code",
      "execution_count": 5,
      "id": "029f08ba-1cdc-4928-9631-f62c51ab7aa5",
      "metadata": {
        "colab": {
          "base_uri": "https://localhost:8080/"
        },
        "id": "029f08ba-1cdc-4928-9631-f62c51ab7aa5",
        "outputId": "e14ec2cc-c6fb-4aab-a8dc-8c65baa7b669"
      },
      "outputs": [
        {
          "name": "stdout",
          "output_type": "stream",
          "text": [
            "Matrix:\n",
            " [[2 3]\n",
            " [1 4]]\n",
            "\n",
            "Vector:\n",
            " [5 6]\n",
            "\n",
            "Result of multiplication:\n",
            " [28 29]\n"
          ]
        }
      ],
      "source": [
        "import numpy as np\n",
        "\n",
        "# Define a 2x2 square matrix\n",
        "matrix = np.array([[2, 3],\n",
        "                   [1, 4]])\n",
        "\n",
        "# Define a vector of size 2\n",
        "vector = np.array([5, 6])\n",
        "\n",
        "# Multiply the matrix by the vector\n",
        "result = np.dot(matrix, vector)\n",
        "\n",
        "# Display the result\n",
        "print(\"Matrix:\\n\", matrix)\n",
        "print(\"\\nVector:\\n\", vector)\n",
        "print(\"\\nResult of multiplication:\\n\", result)\n"
      ]
    },
    {
      "cell_type": "markdown",
      "id": "975c2284",
      "metadata": {
        "id": "975c2284"
      },
      "source": [
        "## Manipulating Complex Column Vectors using NumPy\n",
        "Here we demonstrate how to manipulate complex column vectors using NumPy, including operations like sum, negation, multiplication by a scalar, transpose, adjunct, and conjugate."
      ]
    },
    {
      "cell_type": "code",
      "execution_count": 6,
      "id": "e8058abe",
      "metadata": {
        "colab": {
          "base_uri": "https://localhost:8080/"
        },
        "id": "e8058abe",
        "outputId": "9b1ae18e-635c-45cd-a568-c7bd072dd43b"
      },
      "outputs": [
        {
          "data": {
            "text/plain": [
              "(array([[3.+2.j],\n",
              "        [8.-2.j],\n",
              "        [5.-3.j]]),\n",
              " array([[-2.-3.j],\n",
              "        [-5.+4.j],\n",
              "        [-1.-1.j]]),\n",
              " array([[ 1.+8.j],\n",
              "        [14.-3.j],\n",
              "        [ 1.+3.j]]),\n",
              " array([[2.+3.j, 5.-4.j, 1.+1.j]]),\n",
              " array([[2.-3.j, 5.+4.j, 1.-1.j]]),\n",
              " array([[2.-3.j],\n",
              "        [5.+4.j],\n",
              "        [1.-1.j]]))"
            ]
          },
          "execution_count": 6,
          "metadata": {},
          "output_type": "execute_result"
        }
      ],
      "source": [
        "\n",
        "import numpy as np\n",
        "\n",
        "# Define two complex column vectors\n",
        "v1 = np.array([[2+3j], [5-4j], [1+1j]])\n",
        "v2 = np.array([[1-1j], [3+2j], [4-4j]])\n",
        "\n",
        "# Sum\n",
        "sum_v = v1 + v2\n",
        "\n",
        "# Negation\n",
        "neg_v1 = -v1\n",
        "\n",
        "# Multiplication by a scalar\n",
        "scalar = 2 + 1j\n",
        "mult_v1 = v1 * scalar\n",
        "\n",
        "# Transpose\n",
        "transpose_v1 = v1.T\n",
        "\n",
        "# Adjunct (Conjugate transpose)\n",
        "adjunct_v1 = v1.T.conj()\n",
        "\n",
        "# Conjugate\n",
        "conjugate_v1 = np.conjugate(v1)\n",
        "\n",
        "(sum_v, neg_v1, mult_v1, transpose_v1, adjunct_v1, conjugate_v1)\n"
      ]
    },
    {
      "cell_type": "markdown",
      "id": "995ae5fc",
      "metadata": {
        "id": "995ae5fc"
      },
      "source": [
        "# Theory of Vector Spaces using Matrices\n",
        "In the context of matrices, vector spaces can be defined where each vector is a matrix of a particular size. Operations on these matrix-vector spaces include matrix addition, scalar multiplication, matrix negation, transpose, adjunct, and conjugate. In this section, we focus on square matrices of size 3x3."
      ]
    },
    {
      "cell_type": "markdown",
      "id": "9385c1f0",
      "metadata": {
        "id": "9385c1f0"
      },
      "source": [
        "## Manipulating Square Matrices using NumPy\n",
        "Examples of how to manipulate 3x3 square matrices using NumPy, showing operations such as sum, negation, multiplication by a scalar, conjugate, transpose, and adjunct."
      ]
    },
    {
      "cell_type": "code",
      "execution_count": null,
      "id": "b81ecc57",
      "metadata": {
        "id": "b81ecc57"
      },
      "outputs": [],
      "source": [
        "\n",
        "# Define two 3x3 complex matrices\n",
        "m1 = np.array([[2+3j, 4-1j, 0],\n",
        "               [1+1j, 3+3j, 5],\n",
        "               [4, 6-2j, 1-1j]])\n",
        "m2 = np.array([[1, 2+1j, 3-3j],\n",
        "               [0, -1+2j, 1-2j],\n",
        "               [3+3j, 2, 4+4j]])\n",
        "\n",
        "# Sum\n",
        "sum_m = m1 + m2\n",
        "\n",
        "# Negation\n",
        "neg_m1 = -m1\n",
        "\n",
        "# Multiplication by a scalar\n",
        "scalar = 0.5 + 0.5j\n",
        "mult_m1 = m1 * scalar\n",
        "\n",
        "# Conjugate\n",
        "conjugate_m1 = np.conjugate(m1)\n",
        "\n",
        "# Transpose\n",
        "transpose_m1 = m1.T\n",
        "\n",
        "# Adjunct (Conjugate transpose)\n",
        "adjunct_m1 = m1.T.conj()\n",
        "\n",
        "(sum_m, neg_m1, mult_m1, conjugate_m1, transpose_m1, adjunct_m1)\n"
      ]
    },
    {
      "cell_type": "markdown",
      "id": "ed909545-8a5c-4cca-85f7-48688b597598",
      "metadata": {
        "id": "ed909545-8a5c-4cca-85f7-48688b597598"
      },
      "source": [
        "## Checking the Dimension of a Matrix\n",
        "We can check the dimension of a matrix using the `.shape` attribute."
      ]
    },
    {
      "cell_type": "code",
      "execution_count": null,
      "id": "0930dc10-af6d-427f-bbcb-75bfaf051db5",
      "metadata": {
        "id": "0930dc10-af6d-427f-bbcb-75bfaf051db5"
      },
      "outputs": [],
      "source": [
        "# Checking the dimension of matrix1\n",
        "m1.shape"
      ]
    },
    {
      "cell_type": "markdown",
      "id": "b3fe896b",
      "metadata": {
        "id": "b3fe896b"
      },
      "source": [
        "## Action of a Matrix on a Vector\n",
        "Finally, examples of how to use Python to multiply a 3x3 square matrix by a 3x1 column vector."
      ]
    },
    {
      "cell_type": "code",
      "execution_count": null,
      "id": "e514d047",
      "metadata": {
        "id": "e514d047"
      },
      "outputs": [],
      "source": [
        "\n",
        "# Multiplying a 3x3 matrix by a 3x1 vector\n",
        "result = np.dot(m1, v1)\n",
        "result\n"
      ]
    },
    {
      "cell_type": "markdown",
      "id": "5adf9d8a-af43-4074-ab1a-3cabdc4accff",
      "metadata": {
        "id": "5adf9d8a-af43-4074-ab1a-3cabdc4accff"
      },
      "source": [
        "# Exercises on Complex Vectors and Matrices with Concrete Cases\n",
        "\n",
        "This set of exercises focuses on operations with complex column vectors and complex square matrices, including concrete cases with vectors and matrices written in LaTeX format.\n",
        "\n",
        "## Complex Column Vector Operations\n",
        "\n",
        "### Exercise 1: Sum of Two Complex Vectors\n",
        "Given two complex vectors\n",
        "$ v1 = \\begin{bmatrix} 1 + 2i \\\\ 3 - i \\end{bmatrix} $\n",
        "and\n",
        "$ v2 = \\begin{bmatrix} 2 - i \\\\ 4 + 2i \\end{bmatrix} $,\n",
        "find their sum.\n",
        "\n",
        "### Exercise 2: Negation of a Complex Vector\n",
        "Given a complex vector\n",
        "$ v = \\begin{bmatrix} 2 + 3i \\\\ 1 - 2i \\end{bmatrix} $,\n",
        "find its negation.\n",
        "\n",
        "### Exercise 3: Multiplication of a Complex Vector by a Scalar\n",
        "Multiply the complex vector\n",
        "$ v = \\begin{bmatrix} 1 - i \\\\ 2 + 2i \\end{bmatrix} $\n",
        "by the complex scalar $$ 3 + i $$.\n",
        "\n",
        "### Exercise 4: Transpose of a Complex Vector\n",
        "Find the transpose of the complex vector\n",
        "$ v = \\begin{bmatrix} 2 - i \\\\ 3 + 4i \\end{bmatrix} $.\n",
        "\n",
        "### Exercise 5: Conjugate of a Complex Vector\n",
        "Compute the conjugate of the complex vector\n",
        "$ v = \\begin{bmatrix} 1 + i \\\\ 2 - 3i \\end{bmatrix} $.\n",
        "\n",
        "### Exercise 6: Adjunct (Conjugate Transpose) of a Complex Vector\n",
        "Find the adjunct (or conjugate transpose) of the complex vector\n",
        "$ v = \\begin{bmatrix} 1 - 2i \\\\ 3 + i \\end{bmatrix} $.\n",
        "\n",
        "## Complex Square Matrix Operations\n",
        "\n",
        "### Exercise 7: Sum of Two Complex Matrices\n",
        "Given two complex matrices\n",
        "$ m1 = \\begin{bmatrix} 1 + i & 2 - i \\\\ 3 + 2i & 4 \\end{bmatrix} $\n",
        "and\n",
        "$ m2 = \\begin{bmatrix} 2 - 3i & 1 \\\\ i & 2 + 2i \\end{bmatrix} $,\n",
        "calculate their sum.\n",
        "\n",
        "### Exercise 8: Negation of a Complex Matrix\n",
        "Find the negation of the complex matrix\n",
        "$ m = \\begin{bmatrix} 2 + i & 3 \\\\ 1 - i & 2 + 2i \\end{bmatrix} $.\n",
        "\n",
        "### Exercise 9: Multiplication of a Complex Matrix by a Scalar\n",
        "Multiply the complex matrix\n",
        "$ m = \\begin{bmatrix} 1 - i & 2 \\\\ 3 + i & 4 - 2i \\end{bmatrix} $\n",
        "by the complex scalar $$ 2 + 3i $$.\n",
        "\n",
        "### Exercise 10: Conjugate of a Complex Matrix\n",
        "Compute the conjugate of the complex matrix\n",
        "$ m = \\begin{bmatrix} 1 + i & 2 \\\\ 3 - i & 4 + 2i \\end{bmatrix} $.\n",
        "\n",
        "### Exercise 11: Transpose of a Complex Matrix\n",
        "Find the transpose of the complex matrix\n",
        "$ m = \\begin{bmatrix} 1 - i & 2 + 2i \\\\ 3 & 4 - i \\end{bmatrix} $.\n",
        "\n",
        "### Exercise 12: Adjunct (Conjugate Transpose) of a Complex Matrix\n",
        "Calculate the adjunct (or conjugate transpose) of the complex matrix\n",
        "$ m = \\begin{bmatrix} 1 + 2i & 3 - i \\\\ 4 & 5 + i \\end{bmatrix} $.\n",
        "\n",
        "### Exercise 13: Checking the Dimensions of a Matrix\n",
        "Determine the dimensions of the complex matrix\n",
        "$ m = \\begin{bmatrix} 1 - i & 2 \\\\ 3 + 2i & 4 - i \\end{bmatrix} $.\n",
        "\n",
        "## Multiplication of Matrices and Vectors\n",
        "\n",
        "### Exercise 14: Multiplying a Complex Square Matrix by a Complex Column Vector\n",
        "Multiply the complex square matrix\n",
        "$ m = \\begin{bmatrix} 1 + i & 2 - i \\\\ 3 & 4 + i \\end{bmatrix} $\n",
        "by the complex column vector\n",
        "$ v = \\begin{bmatrix} 2 - i \\\\ 1 + 3i \\end{bmatrix} $.\n",
        "\n",
        "## Instructions\n",
        "For each exercise, ensure to display both the input (vectors/matrices) and the result of the operation.Use NumPy for these exercises to practice handling complex numbers and matrix operations in Python.\n"
      ]
    },
    {
      "cell_type": "markdown",
      "id": "77a3d63b",
      "metadata": {},
      "source": [
        "# Desarrollo\n",
        "\n",
        "### Exercise 1: Sum of Two Complex Vectors\n",
        "Given two complex vectors\n",
        "$ v1 = \\begin{bmatrix} 1 + 2i \\\\ 3 - i \\end{bmatrix} $\n",
        "and\n",
        "$ v2 = \\begin{bmatrix} 2 - i \\\\ 4 + 2i \\end{bmatrix} $,\n",
        "find their sum."
      ]
    },
    {
      "cell_type": "code",
      "execution_count": 4,
      "id": "12949876-03e8-4f25-b566-517ed35ac1e1",
      "metadata": {
        "colab": {
          "base_uri": "https://localhost:8080/"
        },
        "id": "12949876-03e8-4f25-b566-517ed35ac1e1",
        "outputId": "ffecb63c-c58c-42b2-d5b4-4ea2c1712ced"
      },
      "outputs": [
        {
          "name": "stdout",
          "output_type": "stream",
          "text": [
            "[[3.+1.j]\n",
            " [7.+1.j]]\n"
          ]
        }
      ],
      "source": [
        "import numpy as np\n",
        "\n",
        "v1= np.array([[1+2j] , [3-1j]])\n",
        "v2= np.array([[2-1j] , [4+2j]])\n",
        "\n",
        "suma = v1 + v2\n",
        "print(suma)"
      ]
    },
    {
      "cell_type": "markdown",
      "id": "28d4ff51",
      "metadata": {},
      "source": [
        "### Exercise 2: Negation of a Complex Vector\n",
        "Given a complex vector\n",
        "$ v = \\begin{bmatrix} 2 + 3i \\\\ 1 - 2i \\end{bmatrix} $,\n",
        "find its negation."
      ]
    },
    {
      "cell_type": "code",
      "execution_count": 7,
      "id": "jD-SXUZhWJkI",
      "metadata": {
        "colab": {
          "base_uri": "https://localhost:8080/"
        },
        "id": "jD-SXUZhWJkI",
        "outputId": "b4890fa3-dc5e-406a-c4f4-bc2ed29912a1"
      },
      "outputs": [
        {
          "name": "stdout",
          "output_type": "stream",
          "text": [
            "[[-2.-3.j]\n",
            " [-1.+2.j]]\n"
          ]
        }
      ],
      "source": [
        "v3 = np.array([[2+3j],[1-2j]])\n",
        "print(-v3)"
      ]
    },
    {
      "cell_type": "markdown",
      "id": "cbfdceff",
      "metadata": {},
      "source": [
        "### Exercise 3: Multiplication of a Complex Vector by a Scalar\n",
        "Multiply the complex vector\n",
        "$ v = \\begin{bmatrix} 1 - i \\\\ 2 + 2i \\end{bmatrix} $\n",
        "by the complex scalar $$ 3 + i $$."
      ]
    },
    {
      "cell_type": "code",
      "execution_count": 8,
      "id": "0t5W5GgUWqoA",
      "metadata": {
        "colab": {
          "base_uri": "https://localhost:8080/"
        },
        "id": "0t5W5GgUWqoA",
        "outputId": "57e81c1a-933d-4398-ee1b-b64a5274249c"
      },
      "outputs": [
        {
          "name": "stdout",
          "output_type": "stream",
          "text": [
            "[[4.-2.j]\n",
            " [4.+8.j]]\n"
          ]
        }
      ],
      "source": [
        "v3 = np.array([[1-1j],[2+2j]])\n",
        "scalar = 3+1j\n",
        "print(v3*scalar)"
      ]
    },
    {
      "cell_type": "markdown",
      "id": "919ec7c8",
      "metadata": {},
      "source": [
        "### Exercise 4: Transpose of a Complex Vector\n",
        "Find the transpose of the complex vector\n",
        "$ v = \\begin{bmatrix} 2 - i \\\\ 3 + 4i \\end{bmatrix} $."
      ]
    },
    {
      "cell_type": "code",
      "execution_count": 9,
      "id": "MQhtNTTLY8AK",
      "metadata": {
        "colab": {
          "base_uri": "https://localhost:8080/"
        },
        "id": "MQhtNTTLY8AK",
        "outputId": "26b219e2-7ecf-4f2e-8644-9d8008a98475"
      },
      "outputs": [
        {
          "name": "stdout",
          "output_type": "stream",
          "text": [
            "[[2.-1.j 3.+4.j]]\n"
          ]
        }
      ],
      "source": [
        "v4 = np.array([[2-1j],[3+4j]])\n",
        "print(v4.T)"
      ]
    },
    {
      "cell_type": "markdown",
      "id": "6f5f6b19",
      "metadata": {},
      "source": [
        "### Exercise 5: Conjugate of a Complex Vector\n",
        "Compute the conjugate of the complex vector\n",
        "$ v = \\begin{bmatrix} 1 + i \\\\ 2 - 3i \\end{bmatrix} $."
      ]
    },
    {
      "cell_type": "code",
      "execution_count": 10,
      "id": "iI2hEbYkadXT",
      "metadata": {
        "colab": {
          "base_uri": "https://localhost:8080/"
        },
        "id": "iI2hEbYkadXT",
        "outputId": "b32da7df-f515-427b-e2dd-6c2b2dbb710e"
      },
      "outputs": [
        {
          "name": "stdout",
          "output_type": "stream",
          "text": [
            "[[1.-1.j]\n",
            " [2.+3.j]]\n"
          ]
        }
      ],
      "source": [
        "v5= np.array([[1+1j],[2-3j]])\n",
        "print(np.conjugate(v5))"
      ]
    },
    {
      "cell_type": "markdown",
      "id": "22d84b7e",
      "metadata": {},
      "source": [
        "### Exercise 6: Adjunct (Conjugate Transpose) of a Complex Vector\n",
        "Find the adjunct (or conjugate transpose) of the complex vector\n",
        "$ v = \\begin{bmatrix} 1 - 2i \\\\ 3 + i \\end{bmatrix} $."
      ]
    },
    {
      "cell_type": "code",
      "execution_count": 11,
      "id": "CPit495RayQR",
      "metadata": {
        "colab": {
          "base_uri": "https://localhost:8080/"
        },
        "id": "CPit495RayQR",
        "outputId": "77ad77df-67d5-4279-9960-58189f229c7e"
      },
      "outputs": [
        {
          "name": "stdout",
          "output_type": "stream",
          "text": [
            "[[1.+2.j 3.-1.j]]\n"
          ]
        }
      ],
      "source": [
        "v6= np.array([[1-2j],[3+1j]])\n",
        "print(v6.T.conj())"
      ]
    },
    {
      "cell_type": "markdown",
      "id": "c37e5def",
      "metadata": {},
      "source": [
        "### Exercise 7: Sum of Two Complex Matrices\n",
        "Given two complex matrices\n",
        "$ m1 = \\begin{bmatrix} 1 + i & 2 - i \\\\ 3 + 2i & 4 \\end{bmatrix} $\n",
        "and\n",
        "$ m2 = \\begin{bmatrix} 2 - 3i & 1 \\\\ i & 2 + 2i \\end{bmatrix} $,\n",
        "calculate their sum."
      ]
    },
    {
      "cell_type": "code",
      "execution_count": 12,
      "id": "JWZxMQmXa52f",
      "metadata": {
        "colab": {
          "base_uri": "https://localhost:8080/"
        },
        "id": "JWZxMQmXa52f",
        "outputId": "2dd65d9c-1e2d-47ca-a554-9773bc8f0cec"
      },
      "outputs": [
        {
          "name": "stdout",
          "output_type": "stream",
          "text": [
            "[[3.-2.j 3.-1.j]\n",
            " [3.+3.j 6.+2.j]]\n"
          ]
        }
      ],
      "source": [
        "m1 = np.array([[1+1j, 2-1j], [3+2j, 4]])\n",
        "m2 = np.array([[2-3j, 1], [1j, 2+2j]])\n",
        "\n",
        "suma = m1 + m2\n",
        "print(suma)"
      ]
    },
    {
      "cell_type": "markdown",
      "id": "da05ff7e",
      "metadata": {},
      "source": [
        "### Exercise 8: Negation of a Complex Matrix\n",
        "Find the negation of the complex matrix\n",
        "$ m = \\begin{bmatrix} 2 + i & 3 \\\\ 1 - i & 2 + 2i \\end{bmatrix} $."
      ]
    },
    {
      "cell_type": "code",
      "execution_count": 13,
      "id": "vqeRmf5vba6A",
      "metadata": {
        "colab": {
          "base_uri": "https://localhost:8080/"
        },
        "id": "vqeRmf5vba6A",
        "outputId": "2c84dce3-cb24-426f-8027-c4d0dada4028"
      },
      "outputs": [
        {
          "name": "stdout",
          "output_type": "stream",
          "text": [
            "[[-2.-1.j -3.-0.j]\n",
            " [-1.+1.j -2.-2.j]]\n"
          ]
        }
      ],
      "source": [
        "m3 = np.array([[2+1j, 3], [1-1j, 2+2j]])\n",
        "print(-m3)"
      ]
    },
    {
      "cell_type": "markdown",
      "id": "72228e42",
      "metadata": {},
      "source": [
        "### Exercise 9: Multiplication of a Complex Matrix by a Scalar\n",
        "Multiply the complex matrix\n",
        "$ m = \\begin{bmatrix} 1 - i & 2 \\\\ 3 + i & 4 - 2i \\end{bmatrix} $\n",
        "by the complex scalar $$ 2 + 3i $$."
      ]
    },
    {
      "cell_type": "code",
      "execution_count": 14,
      "id": "HG1thNjnboNi",
      "metadata": {
        "colab": {
          "base_uri": "https://localhost:8080/"
        },
        "id": "HG1thNjnboNi",
        "outputId": "b66a1434-8b02-4e0c-f499-9ba82d32dd10"
      },
      "outputs": [
        {
          "name": "stdout",
          "output_type": "stream",
          "text": [
            "[[ 5. +1.j  4. +6.j]\n",
            " [ 3.+11.j 14. +8.j]]\n"
          ]
        }
      ],
      "source": [
        "m4 = np.array([[1-1j, 2], [3+1j, 4-2j]])\n",
        "scalar = 2+3j\n",
        "print(m4*scalar)"
      ]
    },
    {
      "cell_type": "markdown",
      "id": "e58012b5",
      "metadata": {},
      "source": [
        "### Exercise 10: Conjugate of a Complex Matrix\n",
        "Compute the conjugate of the complex matrix\n",
        "$ m = \\begin{bmatrix} 1 + i & 2 \\\\ 3 - i & 4 + 2i \\end{bmatrix} $."
      ]
    },
    {
      "cell_type": "code",
      "execution_count": 16,
      "id": "HBB0R60KcbRH",
      "metadata": {
        "colab": {
          "base_uri": "https://localhost:8080/"
        },
        "id": "HBB0R60KcbRH",
        "outputId": "b209bdf9-3751-4074-a8b5-33ea568321eb"
      },
      "outputs": [
        {
          "name": "stdout",
          "output_type": "stream",
          "text": [
            "[[1.-1.j 2.-0.j]\n",
            " [3.+1.j 4.-2.j]]\n"
          ]
        }
      ],
      "source": [
        "m5 = np.array([[1+1j, 2], [3-1j, 4+2j]])\n",
        "print(np.conjugate(m5))"
      ]
    },
    {
      "cell_type": "markdown",
      "id": "80371003",
      "metadata": {},
      "source": [
        "### Exercise 11: Transpose of a Complex Matrix\n",
        "Find the transpose of the complex matrix\n",
        "$ m = \\begin{bmatrix} 1 - i & 2 + 2i \\\\ 3 & 4 - i \\end{bmatrix} $."
      ]
    },
    {
      "cell_type": "code",
      "execution_count": 17,
      "id": "0R_Cq-5Kcvfb",
      "metadata": {
        "colab": {
          "base_uri": "https://localhost:8080/"
        },
        "id": "0R_Cq-5Kcvfb",
        "outputId": "31e1c0f4-37c0-4fb6-a120-1d2c9b20d008"
      },
      "outputs": [
        {
          "name": "stdout",
          "output_type": "stream",
          "text": [
            "[[1.-1.j 3.+0.j]\n",
            " [2.+2.j 4.-1.j]]\n"
          ]
        }
      ],
      "source": [
        "m6 = np.array([[1-1j,2+2j],[3,4-1j]])\n",
        "print(m6.T)"
      ]
    },
    {
      "cell_type": "markdown",
      "id": "9b7f8808",
      "metadata": {},
      "source": [
        "### Exercise 12: Adjunct (Conjugate Transpose) of a Complex Matrix\n",
        "Calculate the adjunct (or conjugate transpose) of the complex matrix\n",
        "$ m = \\begin{bmatrix} 1 + 2i & 3 - i \\\\ 4 & 5 + i \\end{bmatrix} $."
      ]
    },
    {
      "cell_type": "code",
      "execution_count": 18,
      "id": "O3cUeeBxdSMk",
      "metadata": {
        "colab": {
          "base_uri": "https://localhost:8080/"
        },
        "id": "O3cUeeBxdSMk",
        "outputId": "c806ffa0-9e9f-45d0-9d97-3e13acb6e7bb"
      },
      "outputs": [
        {
          "name": "stdout",
          "output_type": "stream",
          "text": [
            "[[1.-2.j 4.-0.j]\n",
            " [3.+1.j 5.-1.j]]\n"
          ]
        }
      ],
      "source": [
        "m7 = np.array([[1+2j,3-1j],[4,5+1j]])\n",
        "print(m7.T.conj())"
      ]
    },
    {
      "cell_type": "markdown",
      "id": "d9147c5d",
      "metadata": {},
      "source": [
        "### Exercise 13: Checking the Dimensions of a Matrix\n",
        "Determine the dimensions of the complex matrix\n",
        "$ m = \\begin{bmatrix} 1 - i & 2 \\\\ 3 + 2i & 4 - i \\end{bmatrix} $."
      ]
    },
    {
      "cell_type": "code",
      "execution_count": 19,
      "id": "r6QQEiiTdr_E",
      "metadata": {
        "colab": {
          "base_uri": "https://localhost:8080/"
        },
        "id": "r6QQEiiTdr_E",
        "outputId": "ad0a0520-a809-40c6-d20a-b84179fa08aa"
      },
      "outputs": [
        {
          "name": "stdout",
          "output_type": "stream",
          "text": [
            "(2, 2)\n"
          ]
        }
      ],
      "source": [
        "m8 = np.array([[1-1j,2],[3+2j,4-1j]])\n",
        "print(m8.shape)"
      ]
    },
    {
      "cell_type": "markdown",
      "id": "6269a3d4",
      "metadata": {},
      "source": [
        "### Exercise 14: Multiplying a Complex Square Matrix by a Complex Column Vector\n",
        "Multiply the complex square matrix\n",
        "$ m = \\begin{bmatrix} 1 + i & 2 - i \\\\ 3 & 4 + i \\end{bmatrix} $\n",
        "by the complex column vector\n",
        "$ v = \\begin{bmatrix} 2 - i \\\\ 1 + 3i \\end{bmatrix} $."
      ]
    },
    {
      "cell_type": "code",
      "execution_count": 21,
      "id": "hdfAj_3ed2vD",
      "metadata": {
        "colab": {
          "base_uri": "https://localhost:8080/"
        },
        "id": "hdfAj_3ed2vD",
        "outputId": "5b4073c0-4489-47a3-daeb-62b41dfcd0c3"
      },
      "outputs": [
        {
          "name": "stdout",
          "output_type": "stream",
          "text": [
            "[[8. +6.j]\n",
            " [7.+10.j]]\n"
          ]
        }
      ],
      "source": [
        "m9 = np.array([[1+1j,2-1j],[3,4+1j]])\n",
        "v7 = np.array([[2-1j],[1+3j]])\n",
        "print(np.dot(m9,v7))"
      ]
    }
  ],
  "metadata": {
    "colab": {
      "provenance": []
    },
    "kernelspec": {
      "display_name": ".venv",
      "language": "python",
      "name": "python3"
    },
    "language_info": {
      "codemirror_mode": {
        "name": "ipython",
        "version": 3
      },
      "file_extension": ".py",
      "mimetype": "text/x-python",
      "name": "python",
      "nbconvert_exporter": "python",
      "pygments_lexer": "ipython3",
      "version": "3.13.0"
    }
  },
  "nbformat": 4,
  "nbformat_minor": 5
}
