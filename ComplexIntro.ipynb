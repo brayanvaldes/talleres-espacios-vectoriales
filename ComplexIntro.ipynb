{
  "cells": [
    {
      "cell_type": "markdown",
      "id": "89e66669-ce38-4e79-8dd8-067b7ae16174",
      "metadata": {
        "id": "89e66669-ce38-4e79-8dd8-067b7ae16174"
      },
      "source": [
        "# Complex numbers\n",
        "\n",
        "By: Luis Daniel Benavides N. (V1.0 26-01-2024)\n",
        "\n",
        "## Tutorial Outline\n",
        "\n",
        "1. Introduction to Complex Numbers\n",
        "    - Definition and notation\n",
        "    - Real and imaginary parts\n",
        "\n",
        "2. Basic Operations with Complex Numbers\n",
        "    - Addition, subtraction, multiplication, division\n",
        "    - Conjugate and absolute value\n",
        "\n",
        "3. Complex Numbers in Python\n",
        "    - Using Python's complex type\n",
        "    - Basic operations in Python\n",
        "  \n",
        "4. Polar Representation of Complex Numbers\n",
        "    - Polar representation\n",
        "    - Euler notation\n",
        "\n",
        "6. Application: Fractals and Complex Numbers\n",
        "    - Introduction to fractals\n",
        "    - Generating a Mandelbrot set\n",
        "\n",
        "7. Exercises for Students\n",
        "    - Practice problems on complex number operations\n",
        "    - Creating a Julia set fractal"
      ]
    },
    {
      "cell_type": "markdown",
      "id": "a306632f-095f-41af-8bf6-b50ee568a06a",
      "metadata": {
        "id": "a306632f-095f-41af-8bf6-b50ee568a06a"
      },
      "source": [
        "## Software Requirements\n",
        "\n",
        "    - numpy\n",
        "    - matplotlib\n",
        "    - ipywidgets"
      ]
    },
    {
      "cell_type": "markdown",
      "id": "513d253e-6b11-409a-aafc-135d6518757f",
      "metadata": {
        "id": "513d253e-6b11-409a-aafc-135d6518757f"
      },
      "source": [
        "# 1. Introduction to Complex Numbers\n",
        "    - Definition and notation\n",
        "    - Real and imaginary parts\n",
        "\n",
        "Complex numbers are an extension of the real numbers and are fundamental in advanced mathematics and engineering. They provide a solution to equations that have no real solutions, such as the square root of negative numbers.\n",
        "\n",
        "## Definition\n",
        "\n",
        "A complex number is defined as a number of the form $ a + bi $, where:\n",
        "\n",
        "- $ a $ and $ b $ are real numbers,\n",
        "- $ i $ is the imaginary unit with the property $ i² = -1 $.\n",
        "\n",
        "The real part of the complex number is $ a $, and the imaginary part is $ b $.\n",
        "\n",
        "## Imaginary Unit\n",
        "\n",
        "The imaginary unit $ i $ is defined by its property $ i² = -1 $. It allows the definition of complex numbers and facilitates the computation of the square root of negative numbers. For example, the square root of -1 is represented as $ i $, and the square root of -4 is $ 2i $.\n",
        "\n",
        "## Complex Plane\n",
        "\n",
        "The complex plane is a two-dimensional plane where complex numbers are graphed. The horizontal axis represents the real part, and the vertical axis represents the imaginary part.\n",
        "\n",
        "## Applications\n",
        "\n",
        "Complex numbers have applications in various fields, including engineering, physics, computer science, and more. They are especially useful in representing oscillations, waves, and other phenomena involving two-dimensional quantities.\n"
      ]
    },
    {
      "cell_type": "markdown",
      "id": "f9098711-d344-457d-aac0-2646e25ff44d",
      "metadata": {
        "id": "f9098711-d344-457d-aac0-2646e25ff44d"
      },
      "source": [
        "# 2. Basic Operations with Complex Numbers\n",
        "\n",
        "    Addition, subtraction, multiplication, division\n",
        "    Conjugate and modulus value\n",
        "\n",
        "## Algebraic Operations\n",
        "\n",
        "Complex numbers can be added, subtracted, multiplied, and divided:\n",
        "\n",
        "- **Addition**: $+: \\mathbb{C} \\times \\mathbb{C}   \\rightarrow \\mathbb{C}:  (a_1+b_1i) + (a_2+b_2i) = (a_1+a_2) + (b_1+b_2)i$\n",
        "- **Subtraction**: $-: \\mathbb{C} \\times \\mathbb{C}   \\rightarrow \\mathbb{C}: (a + bi) - (c + di) = (a - c) + (b - d)i $\n",
        "- **Multiplication**: $+: \\mathbb{C} \\times \\mathbb{C}   \\rightarrow \\mathbb{C}: (a + bi)(c + di) = (ac - bd) + (ad + bc)i $\n",
        "- **Division**: $/: \\mathbb{C} \\times \\mathbb{C}   \\rightarrow \\mathbb{C}: \\frac{a + bi}{c + di} = \\frac{(ac + bd) + (bc - ad)i}{c² + d²} $\n",
        "\n",
        "## Complex Conjugate\n",
        "\n",
        "The complex conjugate of a complex number \\( a + bi \\) is \\( a - bi \\). It is obtained by changing the sign of the imaginary part. This concept is particularly useful in division and in finding the magnitude of complex numbers.\n",
        "\n",
        "$$ \\text{ }^{-} : \\mathbb{C} \\rightarrow \\mathbb{C} : \\bar c = \\overline {a + bi} = a -bi $$\n",
        "\n",
        "## Magnitude (Modulus)\n",
        "\n",
        "The magnitude (or modulus) of a complex number \\( a + bi \\) is given by \\( \\sqrt{a² + b²} \\). It represents the distance of the complex number from the origin in the complex plane.\n",
        "\n",
        "$$| \\text{ }| : \\mathbb{C} \\rightarrow \\mathbb{R} : |c| = |a + bi| = + \\sqrt{a^2+b^2}$$\n",
        "\n"
      ]
    },
    {
      "cell_type": "markdown",
      "id": "1909a16a-4b1b-4ed4-b4ed-867bd11c625a",
      "metadata": {
        "id": "1909a16a-4b1b-4ed4-b4ed-867bd11c625a"
      },
      "source": [
        "# 3. Complex Numbers in Python\n",
        "    - Using Python's complex type\n",
        "    - Basic operations in Python"
      ]
    },
    {
      "cell_type": "code",
      "execution_count": 1,
      "id": "615168dd-713f-45f3-9e66-ccc96582d4d5",
      "metadata": {
        "colab": {
          "base_uri": "https://localhost:8080/"
        },
        "id": "615168dd-713f-45f3-9e66-ccc96582d4d5",
        "outputId": "81fe27db-8e15-4bc9-ea23-96066a05bcca"
      },
      "outputs": [
        {
          "name": "stdout",
          "output_type": "stream",
          "text": [
            "Addition: (3+2j)\n",
            "Subtraction: (1+4j)\n",
            "Multiplication: (5+1j)\n",
            "Division: (-0.5+2.5j)\n",
            "Conjugate of z1: (2-3j)\n",
            "Absolute value of z1: 3.605551275463989\n",
            "Absolute value of z1: 1.4142135623730951\n",
            "Absolute value of z1: 2.8284271247461903\n"
          ]
        }
      ],
      "source": [
        "# Example: Complex number operations in Python\n",
        "\n",
        "# Creating complex numbers\n",
        "z1 = complex(2, 3)  # 2 + 3j\n",
        "z2 = complex(1, -1) # 1 - 1j\n",
        "z3 = 2 + 2j\n",
        "\n",
        "# Basic operations\n",
        "print(\"Addition:\", z1 + z2)\n",
        "print(\"Subtraction:\", z1 - z2)\n",
        "print(\"Multiplication:\", z1 * z2)\n",
        "print(\"Division:\", z1 / z2)\n",
        "\n",
        "# Conjugate and absolute value\n",
        "print(\"Conjugate of z1:\", z1.conjugate())\n",
        "print(\"Absolute value of z1:\", abs(z1))\n",
        "print(\"Absolute value of z1:\", abs(z2))\n",
        "print(\"Absolute value of z1:\", abs(z3))\n"
      ]
    },
    {
      "cell_type": "markdown",
      "id": "b4843c53-587e-4ca0-bed8-b5114caf7872",
      "metadata": {
        "id": "b4843c53-587e-4ca0-bed8-b5114caf7872"
      },
      "source": [
        "# 4. Polar Representation of Complex Numbers\n",
        "\n",
        "In addition to the rectangular form (a + bi), complex numbers can also be represented in polar form. The polar form of a complex number expresses it in terms of a magnitude (r) and an angle (θ), and is written as `r(cos θ + i sin θ)` or `r∠θ`. This form is particularly useful in quantum computing, signal processing, and other fields where phase and amplitude are important.\n",
        "\n",
        "## Key Concepts\n",
        "- **Magnitude (r)**: The distance of the complex number from the origin in the complex plane, calculated as `sqrt(a^2 + b^2)`.\n",
        "- **Angle (θ)**: The counterclockwise angle measured from the positive x-axis to the line segment that joins the point to the origin, often given in radians.\n",
        "- **Euler's Formula**: `e^(iθ) = cos θ + i sin θ`, which allows the polar form to be written as `r * e^(iθ)`.\n",
        "\n",
        "## Converting between Rectangular and Polar Forms\n",
        "- To convert from rectangular to polar form, use `r = sqrt(a^2 + b^2)` and `θ = atan2(b, a)`.\n",
        "- To convert from polar to rectangular form, use `a = r * cos(θ)` and `b = r * sin(θ)`.\n",
        "\n",
        "## Python Implementation\n",
        "Use Python's `cmath` module for working with complex numbers in polar form.\n"
      ]
    },
    {
      "cell_type": "code",
      "execution_count": 2,
      "id": "8cb18818-65d0-46ef-835f-834dcd7ef711",
      "metadata": {
        "colab": {
          "base_uri": "https://localhost:8080/"
        },
        "id": "8cb18818-65d0-46ef-835f-834dcd7ef711",
        "outputId": "84222db8-584a-4f10-80f0-5b4e83e5ff2d"
      },
      "outputs": [
        {
          "name": "stdout",
          "output_type": "stream",
          "text": [
            "Polar form: Magnitude = 5.0, Angle = 0.9272952180016122 radians\n",
            "Rectangular form: (3.0000000000000004+3.9999999999999996j)\n"
          ]
        }
      ],
      "source": [
        "import cmath\n",
        "\n",
        "# Example: Converting a complex number to its polar form and back\n",
        "\n",
        "# Define a complex number in rectangular form\n",
        "z = complex(3, 4)\n",
        "\n",
        "# Convert to polar form\n",
        "r, theta = cmath.polar(z)\n",
        "print(f\"Polar form: Magnitude = {r}, Angle = {theta} radians\")\n",
        "\n",
        "# Convert back to rectangular form\n",
        "rectangular_form = cmath.rect(r, theta)\n",
        "print(f\"Rectangular form: {rectangular_form}\")\n"
      ]
    },
    {
      "cell_type": "markdown",
      "id": "94cd256c-77e4-4414-8eee-31de4fad30c1",
      "metadata": {
        "id": "94cd256c-77e4-4414-8eee-31de4fad30c1"
      },
      "source": [
        "## An interactive tool for polar and cartesian conversion"
      ]
    },
    {
      "cell_type": "code",
      "execution_count": 3,
      "id": "f551d4e5-90fb-4934-982c-a225579c328d",
      "metadata": {
        "colab": {
          "base_uri": "https://localhost:8080/",
          "height": 568,
          "referenced_widgets": [
            "fcdcf4c9650549ebb57b399ef5b78bfc",
            "4e8661e360874ffb817eb4286e256012",
            "6199ae735c414ae28d8070af58d5fd83",
            "3bb813b03f8d40919d42779ca9ab65c3",
            "9799e3f31e954399914073d6e8d89da2",
            "34b7b82984cb4fefb30f3bfe0534801e",
            "5b6a4d2d51d249d6a7174ac98e3f3d4f",
            "70ae7486b72b41f2a5211d13a0abeabe",
            "9a526275746844baa5b800e36eb63208",
            "cddead1efde244fcb19fb95a5ed39696",
            "8acc36edc227423d98475f1a4f5dd137",
            "ca2b596a32d84f5996b62381760dd412",
            "a52fa8d53f424e98a71c874f84b908a5",
            "119d5bc8c5b64a7fb259e676fd83618d",
            "090d0b92ef4c42e4bdf2f2fda0939917",
            "bb5d46bc8ca34e9ca10f2b9d64be9dcc",
            "e5c908d5ca6f43e1876d9ecde8f9e040",
            "4be89940f28a4ce398aac3cfeae94286",
            "58583507f5a3478493ea779d5c1a86d3"
          ]
        },
        "id": "f551d4e5-90fb-4934-982c-a225579c328d",
        "outputId": "52d26219-0470-4404-f61c-edbad5e76df1"
      },
      "outputs": [
        {
          "data": {
            "application/vnd.jupyter.widget-view+json": {
              "model_id": "fcdcf4c9650549ebb57b399ef5b78bfc",
              "version_major": 2,
              "version_minor": 0
            },
            "text/plain": [
              "VBox(children=(HBox(children=(FloatSlider(value=0.0, description='Real Part:', layout=Layout(width='400px'), m…"
            ]
          },
          "metadata": {},
          "output_type": "display_data"
        },
        {
          "data": {
            "application/vnd.jupyter.widget-view+json": {
              "model_id": "4be89940f28a4ce398aac3cfeae94286",
              "version_major": 2,
              "version_minor": 0
            },
            "text/plain": [
              "Output()"
            ]
          },
          "metadata": {},
          "output_type": "display_data"
        }
      ],
      "source": [
        "import cmath\n",
        "import matplotlib.pyplot as plt\n",
        "import numpy as np\n",
        "import ipywidgets as widgets\n",
        "from IPython.display import display\n",
        "\n",
        "def convert_and_plot(real=0, imaginary=0, magnitude=0, angle=0, convert_to='polar'):\n",
        "    if convert_to == 'polar':\n",
        "        z = complex(real, imaginary)\n",
        "        r, theta = cmath.polar(z)\n",
        "        display_text = f\"Cartesian: ({real}, {imaginary}) -> Polar: (r={r:.2f}, θ={np.degrees(theta):.2f}°)\"\n",
        "    else:\n",
        "        z = cmath.rect(magnitude, np.radians(angle))\n",
        "        display_text = f\"Polar: (r={magnitude}, θ={angle}°) -> Cartesian: ({z.real:.2f}, {z.imag:.2f})\"\n",
        "\n",
        "    fig, ax = plt.subplots()\n",
        "    ax.plot([0, z.real], [0, z.imag], 'ro-')\n",
        "    ax.set_xlim(-5, 5)\n",
        "    ax.set_ylim(-5, 5)\n",
        "    ax.set_xlabel('Real')\n",
        "    ax.set_ylabel('Imaginary')\n",
        "    ax.axhline(0, color='black',linewidth=0.5)\n",
        "    ax.axvline(0, color='black',linewidth=0.5)\n",
        "    ax.grid(True)\n",
        "    plt.title(display_text)\n",
        "    plt.show()\n",
        "\n",
        "style = {'description_width': 'initial'}\n",
        "layout = widgets.Layout(width='400px')\n",
        "\n",
        "# Creating interactive widgets\n",
        "real_slider = widgets.FloatSlider(min=-5, max=5, step=0.1, value=0, description='Real Part:', style=style, layout=layout)\n",
        "imaginary_slider = widgets.FloatSlider(min=-5, max=5, step=0.1, value=0, description='Imaginary Part:', style=style, layout=layout)\n",
        "magnitude_slider = widgets.FloatSlider(min=0, max=5, step=0.1, value=1, description='Magnitude:', style=style, layout=layout)\n",
        "angle_slider = widgets.FloatSlider(min=-180, max=180, step=1, value=0, description='Angle (degrees):', style=style, layout=layout)\n",
        "convert_dropdown = widgets.Dropdown(options=['polar', 'cartesian'], value='polar', description='Convert to:', style=style, layout=layout)\n",
        "\n",
        "# Interactive function\n",
        "\n",
        "ui = widgets.VBox([widgets.HBox([real_slider, imaginary_slider]),\n",
        "                   widgets.HBox([magnitude_slider, angle_slider]),\n",
        "                   convert_dropdown])\n",
        "out = widgets.interactive_output(convert_and_plot, {'real': real_slider, 'imaginary': imaginary_slider,\n",
        "                                                    'magnitude': magnitude_slider, 'angle': angle_slider,\n",
        "                                                    'convert_to': convert_dropdown})\n",
        "\n",
        "display(ui, out)\n",
        "\n"
      ]
    },
    {
      "cell_type": "markdown",
      "id": "9d0830c5-1f26-4633-b471-6589ca01580c",
      "metadata": {
        "id": "9d0830c5-1f26-4633-b471-6589ca01580c"
      },
      "source": [
        "## Euler's Notation for Complex Numbers\n",
        "\n",
        "Euler's formula is a fundamental equation in complex analysis and provides a deep connection between trigonometry and complex exponential functions. It states that for any real number `x`, the following identity holds:\n",
        "\n",
        "$$ e^{ix} = \\cos(x) + i\\sin(x) $$\n",
        "\n",
        "This equation is known as Euler's formula. In this formula, `e` is the base of the natural logarithm, `i` is the imaginary unit, and `cos` and `sin` are the trigonometric functions cosine and sine respectively. The formula is often used in the polar representation of complex numbers.\n",
        "\n",
        "### Polar Representation Using Euler's Formula\n",
        "\n",
        "A complex number can be represented in polar coordinates as `r(cos θ + i sin θ)`. Using Euler's formula, this can be written in the more compact form:\n",
        "\n",
        "$$ z = r \\cdot e^{iθ} $$\n",
        "\n",
        "where `r` is the magnitude (modulus) of the complex number, and `θ` is the angle formed with the positive real axis, often referred to as the argument of the complex number.\n",
        "\n",
        "### Applications\n",
        "\n",
        "Euler's formula is widely used in various fields such as electrical engineering, quantum mechanics, and signal processing. It simplifies the analysis of waveforms, oscillations, and rotating systems.\n"
      ]
    },
    {
      "cell_type": "code",
      "execution_count": 4,
      "id": "2e7d46fd-6e9b-4943-88c1-cc0b9f647dad",
      "metadata": {
        "colab": {
          "base_uri": "https://localhost:8080/"
        },
        "id": "2e7d46fd-6e9b-4943-88c1-cc0b9f647dad",
        "outputId": "bf5dd224-4b63-4000-9138-c90e4b6fdbea"
      },
      "outputs": [
        {
          "name": "stdout",
          "output_type": "stream",
          "text": [
            "Complex number using Euler's notation: (1.4142135623730951+1.414213562373095j)\n",
            "Cartesian form: 1.4142135623730951 + 1.414213562373095i\n"
          ]
        }
      ],
      "source": [
        "import cmath\n",
        "import numpy as np\n",
        "\n",
        "# Example to demonstrate Euler's notation for complex numbers\n",
        "\n",
        "# Define magnitude and angle\n",
        "r = 2.0  # Magnitude\n",
        "theta = np.pi / 4  # Angle in radians (45 degrees)\n",
        "\n",
        "# Using Euler's formula: z = r * e^(iθ)\n",
        "z = r * cmath.exp(complex(0, theta))\n",
        "\n",
        "print(f\"Complex number using Euler's notation: {z}\")\n",
        "\n",
        "# Verify by converting to Cartesian form\n",
        "real_part = z.real\n",
        "imaginary_part = z.imag\n",
        "print(f\"Cartesian form: {real_part} + {imaginary_part}i\")\n"
      ]
    },
    {
      "cell_type": "markdown",
      "id": "903ec828-a9eb-4a11-9aa9-29e0b6416894",
      "metadata": {
        "id": "903ec828-a9eb-4a11-9aa9-29e0b6416894"
      },
      "source": [
        "# 5. Application: Fractals and Complex Numbers\n",
        "    - Introduction to fractals\n",
        "    - Generating a Mandelbrot set\n",
        "\n",
        "## Understanding the Mandelbrot Set\n",
        "\n",
        "The Mandelbrot Set is a fascinating and complex structure in the field of fractal geometry, discovered by mathematician Benoit Mandelbrot in 1980. It's a set of complex numbers that forms an intricate and infinitely detailed boundary when plotted in the complex plane.\n",
        "\n",
        "### What is the Mandelbrot Set?\n",
        "The Mandelbrot Set is defined as the set of complex numbers `c` for which the function `f(z) = z^2 + c` does not diverge when iterated from `z = 0`. In simpler terms, if repeatedly squaring the number and adding `c` never makes the value go to infinity, that number is part of the Mandelbrot Set.\n",
        "\n",
        "### Key Concepts:\n",
        "- **Iteration**: Starting with `z = 0`, we repeatedly apply the function `f(z) = z^2 + c`. The behavior of this sequence determines if `c` is in the Mandelbrot Set.\n",
        "- **Boundedness**: If the sequence remains bounded (doesn't go to infinity), then `c` is in the Mandelbrot Set.\n",
        "- **Escape Time Algorithm**: To visualize the set, we use an algorithm that assigns a color based on how quickly the values reach a certain threshold when iterated. Points inside the set typically remain black.\n",
        "\n",
        "### Properties of the Mandelbrot Set:\n",
        "- **Self-Similarity**: The set is fractal, meaning it contains smaller copies of itself.\n",
        "- **Complex Boundary**: The boundary of the Mandelbrot Set is infinitely complex. Zooming into the boundary reveals more detail.\n",
        "- **Area**: While the exact area of the Mandelbrot Set is unknown, it is finite.\n",
        "- **Connectedness**: Despite its complexity, the set is mathematically proven to be a connected set.\n",
        "\n",
        "### Plotting the Mandelbrot Set:\n",
        "To visualize the set, we iterate over a grid of complex numbers and use the escape time algorithm to color each point. Points that remain bounded (do not escape) after a set number of iterations are considered part of the Mandelbrot Set and are usually colored black.\n",
        "\n",
        "The beauty of the Mandelbrot Set lies not just in its visual complexity, but also in the way it bridges mathematics, art, and computer science. It serves as a powerful example of how simple rules can lead to incredibly intricate structures.\n"
      ]
    },
    {
      "cell_type": "code",
      "execution_count": 5,
      "id": "b6f5d496-c721-416b-a026-003cf91be10a",
      "metadata": {
        "colab": {
          "base_uri": "https://localhost:8080/",
          "height": 452
        },
        "id": "b6f5d496-c721-416b-a026-003cf91be10a",
        "outputId": "ce0a6fa9-e7b0-45ed-b2dd-9375cf571503"
      },
      "outputs": [
        {
          "data": {
            "image/png": "[encoded data removed]",
            "text/plain": [
              "<Figure size 640x480 with 2 Axes>"
            ]
          },
          "metadata": {},
          "output_type": "display_data"
        }
      ],
      "source": [
        "# Example: Generating a Mandelbrot set\n",
        "\n",
        "import numpy as np\n",
        "import matplotlib.pyplot as plt\n",
        "\n",
        "def mandelbrot(c, max_iter):\n",
        "    z = 0\n",
        "    for n in range(max_iter):\n",
        "        if abs(z) > 2:\n",
        "            return n\n",
        "        z = z*z + c\n",
        "    return max_iter\n",
        "\n",
        "# Create a grid of complex numbers\n",
        "pixels = 800\n",
        "max_iter = 30\n",
        "x = np.linspace(-2, 1, pixels)\n",
        "y = np.linspace(-1.5, 1.5, pixels)\n",
        "xx, yy = np.meshgrid(x, y)\n",
        "c = xx + yy*1j\n",
        "\n",
        "# Compute Mandelbrot set\n",
        "mandelbrot_set = np.array([mandelbrot(ci, max_iter) for ci in c.ravel()]).reshape(c.shape)\n",
        "\n",
        "# Plot\n",
        "plt.imshow(mandelbrot_set, extent=[-2, 1, -1.5, 1.5])\n",
        "plt.colorbar()\n",
        "plt.title(\"Mandelbrot Set\")\n",
        "plt.show()\n"
      ]
    },
    {
      "cell_type": "markdown",
      "id": "86e4c29a-ddee-4eca-b7ee-765f51b7cd28",
      "metadata": {
        "id": "86e4c29a-ddee-4eca-b7ee-765f51b7cd28"
      },
      "source": [
        "# 6. Exercises for Students\n",
        "    - Practice problems on complex number operations\n",
        "    - Creating a Julia set fractal"
      ]
    },
    {
      "cell_type": "markdown",
      "id": "e65225e2-2518-4910-9fbc-9000042b22db",
      "metadata": {
        "id": "e65225e2-2518-4910-9fbc-9000042b22db"
      },
      "source": [
        "\n",
        "## Exercise 1: Basic Complex Number Operations\n",
        "1. Manually calculate and then verify using Python the result of `(3 + 4j) + (1 - 2j)`, `(5 + 6j) * (7 - 8j)`, and `(2 - 3j) / (1 + 4j)`.\n",
        "2. Find the conjugate and modulus of `(3 - 4j)`.\n",
        "\n",
        "## Exercise 2: Visualizing Complex Operations\n",
        "1. Write a Python function to plot a complex number on the complex plane. Use it to plot `(3 + 4j)` and its conjugate.\n",
        "2. Extend the function to show addition and multiplication of two complex numbers graphically.\n",
        "\n",
        "## Exercise 3: Exploring the Mandelbrot Set\n",
        "1. Modify the provided Mandelbrot set code to change its zoom level and center point. Observe how the fractal pattern changes.\n",
        "2. Experiment with different values of `max_iter` and observe the effect on the fractal's detail and computation time.\n",
        "\n",
        "## Exercise 4: Creating a Julia Set\n",
        "1. Implement a Julia set generator. Use a constant like `-0.4 + 0.6j` for the iteration `z = z*z + constant`.\n",
        "2. Explore how changing the constant changes the pattern of the Julia set.\n",
        "\n",
        "## Exercise 5: Complex Number Properties\n",
        "1. Prove that the absolute value of a product of two complex numbers is the product of their absolute values.\n",
        "2. Show that the conjugate of a sum of two complex numbers is the sum of their conjugates.\n",
        "\n"
      ]
    },
    {
      "cell_type": "markdown",
      "id": "8b6da430",
      "metadata": {},
      "source": [
        "# Desarrollo\n",
        "## Exercise 1: Basic Complex Number Operations\n",
        "1. Manually calculate and then verify using Python the result of `(3 + 4j) + (1 - 2j)`, `(5 + 6j) * (7 - 8j)`, and `(2 - 3j) / (1 + 4j)`.\n",
        "2. Find the conjugate and modulus of `(3 - 4j)`."
      ]
    },
    {
      "cell_type": "code",
      "execution_count": null,
      "id": "3d80683e-b129-4449-bbf5-fd5e8acafba7",
      "metadata": {
        "id": "3d80683e-b129-4449-bbf5-fd5e8acafba7"
      },
      "outputs": [],
      "source": [
        "from matplotlib import pyplot as plt\n",
        "\n",
        "def uno_a():\n",
        "    print((3+4j) + (1-2j))\n",
        "    print((5+6j)*(7-8j))\n",
        "    print((2-3j)/(1+4j))\n",
        "\n",
        "def dos_a():\n",
        "    print((3-4j).conjugate())\n",
        "    print(abs(3-4j))"
      ]
    },
    {
      "cell_type": "markdown",
      "id": "a59531b8",
      "metadata": {},
      "source": [
        "## Exercise 2: Visualizing Complex Operations\n",
        "1. Write a Python function to plot a complex number on the complex plane. Use it to plot `(3 + 4j)` and its conjugate.\n",
        "2. Extend the function to show addition and multiplication of two complex numbers graphically.\n"
      ]
    },
    {
      "cell_type": "code",
      "execution_count": null,
      "id": "8debefff",
      "metadata": {},
      "outputs": [],
      "source": [
        "def uno_b():\n",
        "    fig, ax = plt.subplots()\n",
        "    ax.plot([0, 3], [0, 4], 'ro-')\n",
        "    ax.plot([0,3],[0,-4], 'ro-', color = \"b\", linestyle =\"--\")\n",
        "    ax.set_xlim(-5, 5)\n",
        "    ax.set_ylim(-5, 5)\n",
        "    ax.set_xlabel(\"Parte real\")\n",
        "    ax.set_ylabel(\"Parte imaginaria\")\n",
        "    ax.axhline(0, color='black',linewidth=0.5)\n",
        "    ax.axvline(0, color='black',linewidth=0.5)\n",
        "    ax.grid(True)\n",
        "    plt.show()\n",
        "\n",
        "def dos_b():\n",
        "    z1 = 2+3j\n",
        "    z2 = 4+5j\n",
        "    mult = z1 * z2\n",
        "    suma = z1 + z2\n",
        "\n",
        "    fig, ax = plt.subplots()\n",
        "    ax.plot([0, complex(mult).real], [0, complex(mult).imag], 'ro-')\n",
        "    ax.plot([0,complex(suma).real],[0,complex(suma).imag], 'ro-', color = \"b\", linestyle =\"--\")\n",
        "    ax.set_xlim(-5, 5)\n",
        "    ax.set_ylim(-5, 5)\n",
        "    ax.set_xlabel(\"Parte real\")\n",
        "    ax.set_ylabel(\"Parte imaginaria\")\n",
        "    ax.axhline(0, color='black',linewidth=0.5)\n",
        "    ax.axvline(0, color='black',linewidth=0.5)\n",
        "    ax.grid(True)\n",
        "    plt.show()\n",
        "dos_b()"
      ]
    },
    {
      "cell_type": "markdown",
      "id": "7898959c",
      "metadata": {},
      "source": [
        "## Exercise 3: Exploring the Mandelbrot Set\n",
        "1. Modify the provided Mandelbrot set code to change its zoom level and center point. Observe how the fractal pattern changes.\n",
        "2. Experiment with different values of `max_iter` and observe the effect on the fractal's detail and computation time."
      ]
    },
    {
      "cell_type": "code",
      "execution_count": 26,
      "id": "2ZFEF9luPPhj",
      "metadata": {
        "colab": {
          "base_uri": "https://localhost:8080/",
          "height": 452
        },
        "id": "2ZFEF9luPPhj",
        "outputId": "4b72b1d0-6965-45e5-fad9-13c09cee12a5"
      },
      "outputs": [
        {
          "data": {
            "image/png": "[encoded data removed]",
            "text/plain": [
              "<Figure size 640x480 with 2 Axes>"
            ]
          },
          "metadata": {},
          "output_type": "display_data"
        }
      ],
      "source": [
        "import numpy as np\n",
        "import matplotlib.pyplot as plt\n",
        "\n",
        "def mandelbrot(c, max_iter):\n",
        "    z = 0\n",
        "    for n in range(max_iter):\n",
        "        if abs(z) > 2:\n",
        "            return n\n",
        "        z = z*z + c\n",
        "    return max_iter\n",
        "\n",
        "center_x = -0.6\n",
        "center_y = 3.5\n",
        "zoom = 1.85\n",
        "\n",
        "pixels = 800\n",
        "max_iter = 30\n",
        "\n",
        "x = np.linspace(center_x - zoom, center_x + zoom, pixels)\n",
        "y = np.linspace(center_y - zoom, center_y + zoom, pixels)\n",
        "xx, yy = np.meshgrid(x, y)\n",
        "c = xx + yy*1j\n",
        "\n",
        "mandelbrot_set = np.array([mandelbrot(ci, max_iter) for ci in c.ravel()]).reshape(c.shape)\n",
        "\n",
        "plt.imshow(mandelbrot_set, extent=[center_x - zoom, center_x + zoom, center_y - zoom, center_y + zoom])\n",
        "plt.colorbar()\n",
        "plt.title(f\"Mandelbrot Set (Zoom en {center_x}, {center_y})\")\n",
        "plt.show()\n"
      ]
    },
    {
      "cell_type": "markdown",
      "id": "caeafc26",
      "metadata": {},
      "source": [
        "## Exercise 4: Creating a Julia Set\n",
        "1. Implement a Julia set generator. Use a constant like `-0.4 + 0.6j` for the iteration `z = z*z + constant`.\n",
        "2. Explore how changing the constant changes the pattern of the Julia set."
      ]
    },
    {
      "cell_type": "code",
      "execution_count": null,
      "id": "4629a962",
      "metadata": {},
      "outputs": [],
      "source": [
        "import numpy as np\n",
        "import matplotlib.pyplot as plt\n",
        "\n",
        "def julia_set(width, height, zoom, cx, cy, max_iter=300):\n",
        "    x = np.linspace(-1.5, 1.5, width) * zoom\n",
        "    y = np.linspace(-1.5, 1.5, height) * zoom\n",
        "    X, Y = np.meshgrid(x, y)\n",
        "    Z = X + 1j * Y\n",
        "    constant = complex(cx, cy)\n",
        "\n",
        "    julia = np.zeros(Z.shape, dtype=int)\n",
        "\n",
        "    for i in range(max_iter):\n",
        "        mask = np.abs(Z) < 4\n",
        "        Z[mask] = Z[mask]**2 + constant\n",
        "        julia[mask] += 1\n",
        "\n",
        "    return julia\n",
        "\n",
        "width, height = 800, 800\n",
        "zoom = 1\n",
        "cx, cy = -0.4, 0.6 \n",
        "\n",
        "julia = julia_set(width, height, zoom, cx, cy)\n",
        "plt.imshow(julia, cmap=\"inferno\", extent=[-1.5, 1.5, -1.5, 1.5])\n",
        "plt.colorbar()\n",
        "plt.title(f\"Julia Set para c = {cx} + {cy}j\")\n",
        "plt.show()\n"
      ]
    },
    {
      "cell_type": "markdown",
      "id": "3103225a",
      "metadata": {},
      "source": [
        "## Exercise 5: Complex Number Properties\n",
        "1. Prove that the absolute value of a product of two complex numbers is the product of their absolute values.\n",
        "2. Show that the conjugate of a sum of two complex numbers is the sum of their conjugates."
      ]
    },
    {
      "cell_type": "markdown",
      "id": "b649b9a2",
      "metadata": {},
      "source": [
        "### 1. Propiedad del Módulo del Producto\n",
        "\n",
        "**Teorema:**  \n",
        "Para dos números complejos \\( z_1 \\) y \\( z_2 \\), se cumple que:\n",
        "\n",
        "$$\n",
        "|z_1 \\cdot z_2| = |z_1| \\cdot |z_2|\n",
        "$$\n",
        "\n",
        "**Demostración:**  \n",
        "Sea \\( z_1 = a + bi \\) y \\( z_2 = c + di \\), donde \\( a, b, c, d \\) son números reales.  \n",
        "El módulo de un número complejo \\( z = x + yi \\) se define como:\n",
        "\n",
        "$$\n",
        "|z| = \\sqrt{x^2 + y^2}\n",
        "$$\n",
        "\n",
        "El producto de \\( z_1 \\) y \\( z_2 \\) es:\n",
        "\n",
        "$$\n",
        "z_1 \\cdot z_2 = (a + bi)(c + di)\n",
        "$$\n",
        "\n",
        "Expandiendo algebraicamente:\n",
        "\n",
        "$$\n",
        "z_1 \\cdot z_2 = ac + adi + bci + bdi^2\n",
        "$$\n",
        "\n",
        "Dado que \\( i^2 = -1 \\), esto se simplifica a:\n",
        "\n",
        "$$\n",
        "(ac - bd) + (ad + bc)i\n",
        "$$\n",
        "\n",
        "El módulo del producto es:\n",
        "\n",
        "$$\n",
        "|(ac - bd) + (ad + bc)i| = \\sqrt{(ac - bd)^2 + (ad + bc)^2}\n",
        "$$\n",
        "\n",
        "Desarrollando los cuadrados:\n",
        "\n",
        "$$\n",
        "(ac - bd)^2 + (ad + bc)^2 = a^2c^2 - 2abcd + b^2d^2 + a^2d^2 + 2abcd + b^2c^2\n",
        "$$\n",
        "\n",
        "$$\n",
        "= a^2c^2 + b^2d^2 + a^2d^2 + b^2c^2\n",
        "$$\n",
        "\n",
        "Factorizando:\n",
        "\n",
        "$$\n",
        "= (a^2 + b^2)(c^2 + d^2)\n",
        "$$\n",
        "\n",
        "Tomando la raíz cuadrada:\n",
        "\n",
        "$$\n",
        "\\sqrt{(a^2 + b^2)(c^2 + d^2)} = \\sqrt{a^2 + b^2} \\cdot \\sqrt{c^2 + d^2}\n",
        "$$\n",
        "\n",
        "$$\n",
        "= |z_1| \\cdot |z_2|\n",
        "$$\n",
        "\n",
        "Por lo tanto, se cumple la propiedad:\n",
        "\n",
        "$$\n",
        "|z_1 \\cdot z_2| = |z_1| \\cdot |z_2|\n",
        "$$\n",
        "\n",
        "---\n",
        "\n",
        "### 2. Propiedad de la Conjugación y la Suma\n",
        "\n",
        "**Teorema:**  \n",
        "Para dos números complejos \\( z_1 \\) y \\( z_2 \\), se cumple que:\n",
        "\n",
        "$$\n",
        "\\overline{z_1 + z_2} = \\overline{z_1} + \\overline{z_2}\n",
        "$$\n",
        "\n",
        "**Demostración:**  \n",
        "Sea \\( z_1 = a + bi \\) y \\( z_2 = c + di \\).  \n",
        "La suma de estos números complejos es:\n",
        "\n",
        "$$\n",
        "z_1 + z_2 = (a + c) + (b + d)i\n",
        "$$\n",
        "\n",
        "El conjugado de un número complejo \\( z = x + yi \\) se define como:\n",
        "\n",
        "$$\n",
        "\\overline{z} = x - yi\n",
        "$$\n",
        "\n",
        "Tomamos el conjugado de la suma:\n",
        "\n",
        "$$\n",
        "\\overline{z_1 + z_2} = \\overline{(a + c) + (b + d)i}\n",
        "$$\n",
        "\n",
        "$$\n",
        "= (a + c) - (b + d)i\n",
        "$$\n",
        "\n",
        "El conjugado de cada número es:\n",
        "\n",
        "$$\n",
        "\\overline{z_1} = a - bi, \\quad \\overline{z_2} = c - di\n",
        "$$\n",
        "\n",
        "Sumándolos:\n",
        "\n",
        "$$\n",
        "\\overline{z_1} + \\overline{z_2} = (a - bi) + (c - di)\n",
        "$$\n",
        "\n",
        "$$\n",
        "= (a + c) - (b + d)i\n",
        "$$\n",
        "\n",
        "Por lo tanto:\n",
        "\n",
        "$$\n",
        "\\overline{z_1 + z_2} = \\overline{z_1} + \\overline{z_2}\n",
        "$$"
      ]
    }
  ],
  "metadata": {
    "colab": {
      "provenance": []
    },
    "kernelspec": {
      "display_name": "Python 3 (ipykernel)",
      "language": "python",
      "name": "python3"
    },
    "language_info": {
      "codemirror_mode": {
        "name": "ipython",
        "version": 3
      },
      "file_extension": ".py",
      "mimetype": "text/x-python",
      "name": "python",
      "nbconvert_exporter": "python",
      "pygments_lexer": "ipython3",
      "version": "3.9.1"
    },
    "widgets": {
      "application/vnd.jupyter.widget-state+json": {
        "090d0b92ef4c42e4bdf2f2fda0939917": {
          "model_module": "@jupyter-widgets/controls",
          "model_module_version": "1.5.0",
          "model_name": "SliderStyleModel",
          "state": {
            "_model_module": "@jupyter-widgets/controls",
            "_model_module_version": "1.5.0",
            "_model_name": "SliderStyleModel",
            "_view_count": null,
            "_view_module": "@jupyter-widgets/base",
            "_view_module_version": "1.2.0",
            "_view_name": "StyleView",
            "description_width": "initial",
            "handle_color": null
          }
        },
        "119d5bc8c5b64a7fb259e676fd83618d": {
          "model_module": "@jupyter-widgets/controls",
          "model_module_version": "1.5.0",
          "model_name": "SliderStyleModel",
          "state": {
            "_model_module": "@jupyter-widgets/controls",
            "_model_module_version": "1.5.0",
            "_model_name": "SliderStyleModel",
            "_view_count": null,
            "_view_module": "@jupyter-widgets/base",
            "_view_module_version": "1.2.0",
            "_view_name": "StyleView",
            "description_width": "initial",
            "handle_color": null
          }
        },
        "34b7b82984cb4fefb30f3bfe0534801e": {
          "model_module": "@jupyter-widgets/controls",
          "model_module_version": "1.5.0",
          "model_name": "FloatSliderModel",
          "state": {
            "_dom_classes": [],
            "_model_module": "@jupyter-widgets/controls",
            "_model_module_version": "1.5.0",
            "_model_name": "FloatSliderModel",
            "_view_count": null,
            "_view_module": "@jupyter-widgets/controls",
            "_view_module_version": "1.5.0",
            "_view_name": "FloatSliderView",
            "continuous_update": true,
            "description": "Real Part:",
            "description_tooltip": null,
            "disabled": false,
            "layout": "IPY_MODEL_ca2b596a32d84f5996b62381760dd412",
            "max": 5,
            "min": -5,
            "orientation": "horizontal",
            "readout": true,
            "readout_format": ".2f",
            "step": 0.1,
            "style": "IPY_MODEL_119d5bc8c5b64a7fb259e676fd83618d",
            "value": 0
          }
        },
        "3bb813b03f8d40919d42779ca9ab65c3": {
          "model_module": "@jupyter-widgets/controls",
          "model_module_version": "1.5.0",
          "model_name": "DropdownModel",
          "state": {
            "_dom_classes": [],
            "_model_module": "@jupyter-widgets/controls",
            "_model_module_version": "1.5.0",
            "_model_name": "DropdownModel",
            "_options_labels": [
              "polar",
              "cartesian"
            ],
            "_view_count": null,
            "_view_module": "@jupyter-widgets/controls",
            "_view_module_version": "1.5.0",
            "_view_name": "DropdownView",
            "description": "Convert to:",
            "description_tooltip": null,
            "disabled": false,
            "index": 0,
            "layout": "IPY_MODEL_ca2b596a32d84f5996b62381760dd412",
            "style": "IPY_MODEL_a52fa8d53f424e98a71c874f84b908a5"
          }
        },
        "4be89940f28a4ce398aac3cfeae94286": {
          "model_module": "@jupyter-widgets/output",
          "model_module_version": "1.0.0",
          "model_name": "OutputModel",
          "state": {
            "_dom_classes": [],
            "_model_module": "@jupyter-widgets/output",
            "_model_module_version": "1.0.0",
            "_model_name": "OutputModel",
            "_view_count": null,
            "_view_module": "@jupyter-widgets/output",
            "_view_module_version": "1.0.0",
            "_view_name": "OutputView",
            "layout": "IPY_MODEL_58583507f5a3478493ea779d5c1a86d3",
            "msg_id": "",
            "outputs": [
              {
                "data": {
                  "image/png": "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\n",
                  "text/plain": "<Figure size 640x480 with 1 Axes>"
                },
                "metadata": {},
                "output_type": "display_data"
              }
            ]
          }
        },
        "4e8661e360874ffb817eb4286e256012": {
          "model_module": "@jupyter-widgets/controls",
          "model_module_version": "1.5.0",
          "model_name": "HBoxModel",
          "state": {
            "_dom_classes": [],
            "_model_module": "@jupyter-widgets/controls",
            "_model_module_version": "1.5.0",
            "_model_name": "HBoxModel",
            "_view_count": null,
            "_view_module": "@jupyter-widgets/controls",
            "_view_module_version": "1.5.0",
            "_view_name": "HBoxView",
            "box_style": "",
            "children": [
              "IPY_MODEL_34b7b82984cb4fefb30f3bfe0534801e",
              "IPY_MODEL_5b6a4d2d51d249d6a7174ac98e3f3d4f"
            ],
            "layout": "IPY_MODEL_70ae7486b72b41f2a5211d13a0abeabe"
          }
        },
        "58583507f5a3478493ea779d5c1a86d3": {
          "model_module": "@jupyter-widgets/base",
          "model_module_version": "1.2.0",
          "model_name": "LayoutModel",
          "state": {
            "_model_module": "@jupyter-widgets/base",
            "_model_module_version": "1.2.0",
            "_model_name": "LayoutModel",
            "_view_count": null,
            "_view_module": "@jupyter-widgets/base",
            "_view_module_version": "1.2.0",
            "_view_name": "LayoutView",
            "align_content": null,
            "align_items": null,
            "align_self": null,
            "border": null,
            "bottom": null,
            "display": null,
            "flex": null,
            "flex_flow": null,
            "grid_area": null,
            "grid_auto_columns": null,
            "grid_auto_flow": null,
            "grid_auto_rows": null,
            "grid_column": null,
            "grid_gap": null,
            "grid_row": null,
            "grid_template_areas": null,
            "grid_template_columns": null,
            "grid_template_rows": null,
            "height": null,
            "justify_content": null,
            "justify_items": null,
            "left": null,
            "margin": null,
            "max_height": null,
            "max_width": null,
            "min_height": null,
            "min_width": null,
            "object_fit": null,
            "object_position": null,
            "order": null,
            "overflow": null,
            "overflow_x": null,
            "overflow_y": null,
            "padding": null,
            "right": null,
            "top": null,
            "visibility": null,
            "width": null
          }
        },
        "5b6a4d2d51d249d6a7174ac98e3f3d4f": {
          "model_module": "@jupyter-widgets/controls",
          "model_module_version": "1.5.0",
          "model_name": "FloatSliderModel",
          "state": {
            "_dom_classes": [],
            "_model_module": "@jupyter-widgets/controls",
            "_model_module_version": "1.5.0",
            "_model_name": "FloatSliderModel",
            "_view_count": null,
            "_view_module": "@jupyter-widgets/controls",
            "_view_module_version": "1.5.0",
            "_view_name": "FloatSliderView",
            "continuous_update": true,
            "description": "Imaginary Part:",
            "description_tooltip": null,
            "disabled": false,
            "layout": "IPY_MODEL_ca2b596a32d84f5996b62381760dd412",
            "max": 5,
            "min": -5,
            "orientation": "horizontal",
            "readout": true,
            "readout_format": ".2f",
            "step": 0.1,
            "style": "IPY_MODEL_090d0b92ef4c42e4bdf2f2fda0939917",
            "value": 0
          }
        },
        "6199ae735c414ae28d8070af58d5fd83": {
          "model_module": "@jupyter-widgets/controls",
          "model_module_version": "1.5.0",
          "model_name": "HBoxModel",
          "state": {
            "_dom_classes": [],
            "_model_module": "@jupyter-widgets/controls",
            "_model_module_version": "1.5.0",
            "_model_name": "HBoxModel",
            "_view_count": null,
            "_view_module": "@jupyter-widgets/controls",
            "_view_module_version": "1.5.0",
            "_view_name": "HBoxView",
            "box_style": "",
            "children": [
              "IPY_MODEL_9a526275746844baa5b800e36eb63208",
              "IPY_MODEL_cddead1efde244fcb19fb95a5ed39696"
            ],
            "layout": "IPY_MODEL_8acc36edc227423d98475f1a4f5dd137"
          }
        },
        "70ae7486b72b41f2a5211d13a0abeabe": {
          "model_module": "@jupyter-widgets/base",
          "model_module_version": "1.2.0",
          "model_name": "LayoutModel",
          "state": {
            "_model_module": "@jupyter-widgets/base",
            "_model_module_version": "1.2.0",
            "_model_name": "LayoutModel",
            "_view_count": null,
            "_view_module": "@jupyter-widgets/base",
            "_view_module_version": "1.2.0",
            "_view_name": "LayoutView",
            "align_content": null,
            "align_items": null,
            "align_self": null,
            "border": null,
            "bottom": null,
            "display": null,
            "flex": null,
            "flex_flow": null,
            "grid_area": null,
            "grid_auto_columns": null,
            "grid_auto_flow": null,
            "grid_auto_rows": null,
            "grid_column": null,
            "grid_gap": null,
            "grid_row": null,
            "grid_template_areas": null,
            "grid_template_columns": null,
            "grid_template_rows": null,
            "height": null,
            "justify_content": null,
            "justify_items": null,
            "left": null,
            "margin": null,
            "max_height": null,
            "max_width": null,
            "min_height": null,
            "min_width": null,
            "object_fit": null,
            "object_position": null,
            "order": null,
            "overflow": null,
            "overflow_x": null,
            "overflow_y": null,
            "padding": null,
            "right": null,
            "top": null,
            "visibility": null,
            "width": null
          }
        },
        "8acc36edc227423d98475f1a4f5dd137": {
          "model_module": "@jupyter-widgets/base",
          "model_module_version": "1.2.0",
          "model_name": "LayoutModel",
          "state": {
            "_model_module": "@jupyter-widgets/base",
            "_model_module_version": "1.2.0",
            "_model_name": "LayoutModel",
            "_view_count": null,
            "_view_module": "@jupyter-widgets/base",
            "_view_module_version": "1.2.0",
            "_view_name": "LayoutView",
            "align_content": null,
            "align_items": null,
            "align_self": null,
            "border": null,
            "bottom": null,
            "display": null,
            "flex": null,
            "flex_flow": null,
            "grid_area": null,
            "grid_auto_columns": null,
            "grid_auto_flow": null,
            "grid_auto_rows": null,
            "grid_column": null,
            "grid_gap": null,
            "grid_row": null,
            "grid_template_areas": null,
            "grid_template_columns": null,
            "grid_template_rows": null,
            "height": null,
            "justify_content": null,
            "justify_items": null,
            "left": null,
            "margin": null,
            "max_height": null,
            "max_width": null,
            "min_height": null,
            "min_width": null,
            "object_fit": null,
            "object_position": null,
            "order": null,
            "overflow": null,
            "overflow_x": null,
            "overflow_y": null,
            "padding": null,
            "right": null,
            "top": null,
            "visibility": null,
            "width": null
          }
        },
        "9799e3f31e954399914073d6e8d89da2": {
          "model_module": "@jupyter-widgets/base",
          "model_module_version": "1.2.0",
          "model_name": "LayoutModel",
          "state": {
            "_model_module": "@jupyter-widgets/base",
            "_model_module_version": "1.2.0",
            "_model_name": "LayoutModel",
            "_view_count": null,
            "_view_module": "@jupyter-widgets/base",
            "_view_module_version": "1.2.0",
            "_view_name": "LayoutView",
            "align_content": null,
            "align_items": null,
            "align_self": null,
            "border": null,
            "bottom": null,
            "display": null,
            "flex": null,
            "flex_flow": null,
            "grid_area": null,
            "grid_auto_columns": null,
            "grid_auto_flow": null,
            "grid_auto_rows": null,
            "grid_column": null,
            "grid_gap": null,
            "grid_row": null,
            "grid_template_areas": null,
            "grid_template_columns": null,
            "grid_template_rows": null,
            "height": null,
            "justify_content": null,
            "justify_items": null,
            "left": null,
            "margin": null,
            "max_height": null,
            "max_width": null,
            "min_height": null,
            "min_width": null,
            "object_fit": null,
            "object_position": null,
            "order": null,
            "overflow": null,
            "overflow_x": null,
            "overflow_y": null,
            "padding": null,
            "right": null,
            "top": null,
            "visibility": null,
            "width": null
          }
        },
        "9a526275746844baa5b800e36eb63208": {
          "model_module": "@jupyter-widgets/controls",
          "model_module_version": "1.5.0",
          "model_name": "FloatSliderModel",
          "state": {
            "_dom_classes": [],
            "_model_module": "@jupyter-widgets/controls",
            "_model_module_version": "1.5.0",
            "_model_name": "FloatSliderModel",
            "_view_count": null,
            "_view_module": "@jupyter-widgets/controls",
            "_view_module_version": "1.5.0",
            "_view_name": "FloatSliderView",
            "continuous_update": true,
            "description": "Magnitude:",
            "description_tooltip": null,
            "disabled": false,
            "layout": "IPY_MODEL_ca2b596a32d84f5996b62381760dd412",
            "max": 5,
            "min": 0,
            "orientation": "horizontal",
            "readout": true,
            "readout_format": ".2f",
            "step": 0.1,
            "style": "IPY_MODEL_bb5d46bc8ca34e9ca10f2b9d64be9dcc",
            "value": 1
          }
        },
        "a52fa8d53f424e98a71c874f84b908a5": {
          "model_module": "@jupyter-widgets/controls",
          "model_module_version": "1.5.0",
          "model_name": "DescriptionStyleModel",
          "state": {
            "_model_module": "@jupyter-widgets/controls",
            "_model_module_version": "1.5.0",
            "_model_name": "DescriptionStyleModel",
            "_view_count": null,
            "_view_module": "@jupyter-widgets/base",
            "_view_module_version": "1.2.0",
            "_view_name": "StyleView",
            "description_width": "initial"
          }
        },
        "bb5d46bc8ca34e9ca10f2b9d64be9dcc": {
          "model_module": "@jupyter-widgets/controls",
          "model_module_version": "1.5.0",
          "model_name": "SliderStyleModel",
          "state": {
            "_model_module": "@jupyter-widgets/controls",
            "_model_module_version": "1.5.0",
            "_model_name": "SliderStyleModel",
            "_view_count": null,
            "_view_module": "@jupyter-widgets/base",
            "_view_module_version": "1.2.0",
            "_view_name": "StyleView",
            "description_width": "initial",
            "handle_color": null
          }
        },
        "ca2b596a32d84f5996b62381760dd412": {
          "model_module": "@jupyter-widgets/base",
          "model_module_version": "1.2.0",
          "model_name": "LayoutModel",
          "state": {
            "_model_module": "@jupyter-widgets/base",
            "_model_module_version": "1.2.0",
            "_model_name": "LayoutModel",
            "_view_count": null,
            "_view_module": "@jupyter-widgets/base",
            "_view_module_version": "1.2.0",
            "_view_name": "LayoutView",
            "align_content": null,
            "align_items": null,
            "align_self": null,
            "border": null,
            "bottom": null,
            "display": null,
            "flex": null,
            "flex_flow": null,
            "grid_area": null,
            "grid_auto_columns": null,
            "grid_auto_flow": null,
            "grid_auto_rows": null,
            "grid_column": null,
            "grid_gap": null,
            "grid_row": null,
            "grid_template_areas": null,
            "grid_template_columns": null,
            "grid_template_rows": null,
            "height": null,
            "justify_content": null,
            "justify_items": null,
            "left": null,
            "margin": null,
            "max_height": null,
            "max_width": null,
            "min_height": null,
            "min_width": null,
            "object_fit": null,
            "object_position": null,
            "order": null,
            "overflow": null,
            "overflow_x": null,
            "overflow_y": null,
            "padding": null,
            "right": null,
            "top": null,
            "visibility": null,
            "width": "400px"
          }
        },
        "cddead1efde244fcb19fb95a5ed39696": {
          "model_module": "@jupyter-widgets/controls",
          "model_module_version": "1.5.0",
          "model_name": "FloatSliderModel",
          "state": {
            "_dom_classes": [],
            "_model_module": "@jupyter-widgets/controls",
            "_model_module_version": "1.5.0",
            "_model_name": "FloatSliderModel",
            "_view_count": null,
            "_view_module": "@jupyter-widgets/controls",
            "_view_module_version": "1.5.0",
            "_view_name": "FloatSliderView",
            "continuous_update": true,
            "description": "Angle (degrees):",
            "description_tooltip": null,
            "disabled": false,
            "layout": "IPY_MODEL_ca2b596a32d84f5996b62381760dd412",
            "max": 180,
            "min": -180,
            "orientation": "horizontal",
            "readout": true,
            "readout_format": ".2f",
            "step": 1,
            "style": "IPY_MODEL_e5c908d5ca6f43e1876d9ecde8f9e040",
            "value": 0
          }
        },
        "e5c908d5ca6f43e1876d9ecde8f9e040": {
          "model_module": "@jupyter-widgets/controls",
          "model_module_version": "1.5.0",
          "model_name": "SliderStyleModel",
          "state": {
            "_model_module": "@jupyter-widgets/controls",
            "_model_module_version": "1.5.0",
            "_model_name": "SliderStyleModel",
            "_view_count": null,
            "_view_module": "@jupyter-widgets/base",
            "_view_module_version": "1.2.0",
            "_view_name": "StyleView",
            "description_width": "initial",
            "handle_color": null
          }
        },
        "fcdcf4c9650549ebb57b399ef5b78bfc": {
          "model_module": "@jupyter-widgets/controls",
          "model_module_version": "1.5.0",
          "model_name": "VBoxModel",
          "state": {
            "_dom_classes": [],
            "_model_module": "@jupyter-widgets/controls",
            "_model_module_version": "1.5.0",
            "_model_name": "VBoxModel",
            "_view_count": null,
            "_view_module": "@jupyter-widgets/controls",
            "_view_module_version": "1.5.0",
            "_view_name": "VBoxView",
            "box_style": "",
            "children": [
              "IPY_MODEL_4e8661e360874ffb817eb4286e256012",
              "IPY_MODEL_6199ae735c414ae28d8070af58d5fd83",
              "IPY_MODEL_3bb813b03f8d40919d42779ca9ab65c3"
            ],
            "layout": "IPY_MODEL_9799e3f31e954399914073d6e8d89da2"
          }
        }
      }
    }
  },
  "nbformat": 4,
  "nbformat_minor": 5
}
